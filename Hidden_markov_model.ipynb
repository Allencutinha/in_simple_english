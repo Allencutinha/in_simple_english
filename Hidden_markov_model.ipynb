{
 "cells": [
  {
   "cell_type": "markdown",
   "metadata": {},
   "source": [
    "# My understanding of Hidden Markov Model\n",
    "\n",
    "Here I consider the Markov model in relation with Bayesian network. At first some intuitive definitions.\n",
    "\n",
    "**Bayesian network** models conditional dependencies between the random variables. This fact is convinient to visualize in form of pictures, network/graph. What makes it Bayesian is the fact that the Bayes rule is applied to infere the information about the variables.\n",
    "\n",
    "**Dynamic Bayesian network** is a simplified Bayesian network, which takes time into account. How does it take time? Every variable has associated time index. And the variables in the future can not influence the variables in the past. In network notation there should be no arrows from future nodes/states to the nodes in the past.\n",
    "\n",
    "**Markov model** is a network. Is it Bayesian network?  (Can Markov model be a non-bayesian network). It is a dynamic (Bayesian) network for which the  Markov property holds (the variable in the future are conditionaly independent from the variables in the past. This condition is that the present states are known/already infered). \n",
    "\n",
    "**Hidden Markov model** is a Markov model that has hidden nodes, nodes that are not directly observed, like the poses of the robot.\n",
    "\n",
    "## \"Weather\" markov model\n",
    "\n",
    "Let's make it more visually appealing by adding some examples as well as cool pictures. At first let's consider a simple \"weather\" example. Have a look at the figure below. there you can see some statistics about how the weather may change sun/rain. We have visualized the outcomes of **one** random variable, namely weather $x = {R,S}$. Now let's bring \"time\" in our example. Let's assume we are interested in the \"weather (x)\" along several days $(t-1,t,t+1)$. Then our example turned to be as the one s in Fig. Now we have modeled the situation about the weather change across the days( across time). This is a example of a Dynamic Bayesian network. And if we say it is Markov, then when infering the weather in day t+1, we would only need to take into account the \"weather\" in the day t. Example needed (Make inference about every possible event that might interest me).\n",
    "\n",
    "![image_name](../data/gp_starting/gaussian_processes.png)\n"
   ]
  },
  {
   "cell_type": "code",
   "execution_count": null,
   "metadata": {},
   "outputs": [],
   "source": []
  }
 ],
 "metadata": {
  "kernelspec": {
   "display_name": "Python 3",
   "language": "python",
   "name": "python3"
  },
  "language_info": {
   "codemirror_mode": {
    "name": "ipython",
    "version": 3
   },
   "file_extension": ".py",
   "mimetype": "text/x-python",
   "name": "python",
   "nbconvert_exporter": "python",
   "pygments_lexer": "ipython3",
   "version": "3.6.6"
  }
 },
 "nbformat": 4,
 "nbformat_minor": 2
}
