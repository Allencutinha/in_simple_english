{
 "cells": [
  {
   "cell_type": "markdown",
   "metadata": {},
   "source": [
    "# How to solve systems of linear equation?"
   ]
  },
  {
   "cell_type": "markdown",
   "metadata": {},
   "source": [
    "## General case $Ax=b$\n",
    "\n",
    "We need to solve the system of equations $Ax=b$. There are certain things that can happen.\n",
    "    * A is squared and has a full rank  (very good matrix)\n",
    "    * A is squared and doesn't have full rank. (Underdetermined???)\n",
    "    * A is overdetermined. We have more equations than unknowns, or simpler more columns than rows.\n",
    "    \n",
    "Questions:\n",
    "    What is the relation between the singular values/vectors and the solution of the system of linear equations?\n"
   ]
  },
  {
   "cell_type": "markdown",
   "metadata": {},
   "source": [
    "### Case 1: A is squared and has full rank. \n",
    "\n",
    "Best possible scenario. Has a unique solution.\n",
    "Use Gaussian elimination or $x=A^{-1}b$\n",
    "For large matrices inversion or elimination may not be efficient then use LU decomposition, etc. If matrices have some further cool properties look at Cholesky decomposition..."
   ]
  },
  {
   "cell_type": "code",
   "execution_count": 3,
   "metadata": {},
   "outputs": [],
   "source": [
    "import numpy as np\n",
    "from scipy.linalg import null_space"
   ]
  },
  {
   "cell_type": "code",
   "execution_count": 46,
   "metadata": {
    "scrolled": false
   },
   "outputs": [
    {
     "name": "stdout",
     "output_type": "stream",
     "text": [
      "Direct solution\n",
      "matrix\n",
      " [[2 1]\n",
      " [3 1]]\n",
      "Solution solve [1. 0.]\n"
     ]
    }
   ],
   "source": [
    "from numpy import linalg as LA\n",
    "## solve the system exactly\n",
    "print(\"Direct solution\")\n",
    "A = np.matrix([[2,1], [3,1]])\n",
    "b = np.array([2,3])\n",
    "print(\"matrix\\n\", A)\n",
    "## solves the system by Gaussian elimination\n",
    "x_dir = np.linalg.solve(A,b.transpose())\n",
    "print(\"Solution solve\", x_dir)"
   ]
  },
  {
   "cell_type": "markdown",
   "metadata": {},
   "source": [
    "### Case 2: A is overdetermined.\n",
    "\n",
    "There are cases for which a unique solution exists, based on the linear independence of the rows.\n",
    "See https://en.wikipedia.org/wiki/Overdetermined_system#Non-homogeneous_case\n",
    "\n",
    "In general if we are interested in approximate solution (probably when no unique one exists), here is where we can use the method called \"ordinary least squares\".\n"
   ]
  },
  {
   "cell_type": "markdown",
   "metadata": {},
   "source": [
    "## Solving homogeneous systems $Ax=0$\n",
    "\n",
    "We will look here to the case where A is $m x n$ matrix, where m >= n (and A should have rank deficiency???). The case of the overdetermined matrices. Any vector x that satisfies the $Ax=0$ is called to belong in the \"null space\" of A. A magical space where only those vectors live, which A turns into 0 :)  The simplest vector is zero vector, however \"somehow\" we are not interested in that.\n",
    "\n",
    "So we are interested to find some vector x from a null-space that is not a zero vector.\n",
    "\n",
    "**Claim (someone's)**  The solution x is the eigenvector corresponding to the only zero eigenvalue of AtA.\n",
    "\n",
    "Proof (not mine): For some reason to prove this, we urgently want to minimize $||Ax||^2$ instead of Ax=0. If we believe this, everything else comes naturally.\n",
    "\n",
    "$||Ax||^2$ = opening norm = $(Ax)^TAx = x^TA^TAx$ subject to a constraint $x^Tx = 1$\n",
    "\n",
    "Using cool trick with Lagrange multipliers, we \"put\" the constraint into the minimization function.\n",
    "\n",
    "$L(x) = x^TA^TAx - \\lambda(x^Tx-1)$\n",
    "\n",
    "Now searching for minimum of L(x) by taking the derivative over x and set it to 0.\n",
    "$A^TAx - \\lambda x =0$\n",
    "\n",
    "By inspecting the last expression, we can see that it suspiciously looks like eigenvectors definition $Av = \\lambda v$, only A here is $A^TA$. Since the eigenvalues are non-negative values, the only way to minimize L(x) is eigenvalue to be 0 (or closest to 0)? This basically should prove that the non-boring (non-zero) solution to the $Ax=0$ is the eigenvector that corresponds to the zero eigenvalue of $A^TA$\n",
    "\n",
    "\n",
    "There is a relation between singular and eigenvalues, so $Ax=0$ can also be solved with SVD, by decomposing the matrix $A$ and not $A^TA$\n"
   ]
  },
  {
   "cell_type": "code",
   "execution_count": 50,
   "metadata": {},
   "outputs": [
    {
     "name": "stdout",
     "output_type": "stream",
     "text": [
      "Having matrix of size  (4, 2) \n",
      " [[2 1]\n",
      " [3 1]\n",
      " [6 2]\n",
      " [9 3]]\n",
      "With rank 2\n"
     ]
    }
   ],
   "source": [
    "## Let's look t the example if this magic actually works\n",
    "A = np.matrix([[2,1], [3,1], [6,2],[9,3]])\n",
    "print(\"Having matrix of size \", A.shape, \"\\n\", A)\n",
    "print(\"With rank\", LA.matrix_rank(A))"
   ]
  },
  {
   "cell_type": "code",
   "execution_count": 57,
   "metadata": {},
   "outputs": [
    {
     "name": "stdout",
     "output_type": "stream",
     "text": [
      "Right eigenvectors\n",
      " [[ 0.94714354 -0.32081009]\n",
      " [ 0.32081009  0.94714354]]\n",
      "Eigenvalues [1.44903384e+02 9.66161012e-02]\n"
     ]
    }
   ],
   "source": [
    "## let's find eigenvalues\n",
    "w, v = np.linalg.eig(A.transpose()*A)\n",
    "print(\"Right eigenvectors\\n\", v)\n",
    "print(\"Eigenvalues\", w)"
   ]
  },
  {
   "cell_type": "code",
   "execution_count": 56,
   "metadata": {},
   "outputs": [
    {
     "name": "stdout",
     "output_type": "stream",
     "text": [
      "Checking if true [[ 0.30552337]\n",
      " [-0.01528672]\n",
      " [-0.03057344]\n",
      " [-0.04586015]]\n"
     ]
    }
   ],
   "source": [
    "print(\"Checking if true\", A*v[:,1])"
   ]
  },
  {
   "cell_type": "code",
   "execution_count": 58,
   "metadata": {},
   "outputs": [],
   "source": [
    "### Example somehow doesn't work"
   ]
  },
  {
   "cell_type": "code",
   "execution_count": null,
   "metadata": {},
   "outputs": [],
   "source": []
  }
 ],
 "metadata": {
  "kernelspec": {
   "display_name": "Python 3",
   "language": "python",
   "name": "python3"
  },
  "language_info": {
   "codemirror_mode": {
    "name": "ipython",
    "version": 3
   },
   "file_extension": ".py",
   "mimetype": "text/x-python",
   "name": "python",
   "nbconvert_exporter": "python",
   "pygments_lexer": "ipython3",
   "version": "3.6.6"
  }
 },
 "nbformat": 4,
 "nbformat_minor": 2
}
