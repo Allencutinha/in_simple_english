{
 "cells": [
  {
   "cell_type": "code",
   "execution_count": 7,
   "metadata": {},
   "outputs": [],
   "source": [
    "import numpy as np\n",
    "from matplotlib import pyplot as plt\n",
    "\n",
    "from sklearn.gaussian_process import GaussianProcessRegressor\n",
    "from sklearn.gaussian_process.kernels import RBF, ConstantKernel as C\n",
    "from sklearn.gaussian_process.kernels import Matern"
   ]
  },
  {
   "cell_type": "code",
   "execution_count": null,
   "metadata": {},
   "outputs": [],
   "source": [
    "x = np.array([-2, 0, 4, 2]).reshape(-1,1)\n",
    "y = np.array([1, 0.3, -1, 0]).reshape(-1,1)\n",
    "\n",
    "x_test = np.linspace(-5, 5, 100).reshape(-1,1)\n",
    "\n",
    "kernel = RBF(1, (1e-2, 1e2))\n",
    "gp = GaussianProcessRegressor(kernel=kernel, n_restarts_optimizer=9)\n",
    "\n",
    "samples = gp.sample_y(x_test, 3)\n",
    "\n",
    "#gp.fit(x, y)\n",
    "#opt_params = gp.get_params()\n",
    "#print \"Opt param\", opt_params\n",
    "\n",
    "#log_lik = gp.log_marginal_likelihood()\n",
    "\n",
    "# Make the prediction on the meshed x-axis (ask for MSE as well)\n",
    "#y_pred, sigma = gp.predict(x_test, return_std=True)\n"
   ]
  },
  {
   "cell_type": "code",
   "execution_count": null,
   "metadata": {},
   "outputs": [],
   "source": [
    "fig = plt.figure();\n",
    "plt.plot(x_test, samples[:,0]);\n",
    "plt.plot(x_test, samples[:,1]);\n",
    "plt.plot(x_test, samples[:,2]);\n",
    "#plt.fill_between(x_test, y_pred - 2*sigma, y_pred + 2*sigma, color=\"#dddddd\")"
   ]
  },
  {
   "cell_type": "markdown",
   "metadata": {},
   "source": [
    "Checking if we can estimate the length scale parameters"
   ]
  },
  {
   "cell_type": "code",
   "execution_count": null,
   "metadata": {
    "scrolled": true
   },
   "outputs": [],
   "source": [
    "x2_train = x_test\n",
    "y2_train = samples[:,0]\n",
    "\n",
    "kernel2 = RBF(10, (1e-2, 1e2))\n",
    "print \"Parameter before learning\", kernel2.theta\n",
    "gp2 = GaussianProcessRegressor(kernel=kernel2, n_restarts_optimizer=9, alpha=1e-06)\n",
    "gp2 = gp2.fit(x2_train, y2_train)\n",
    "opt_params = gp2.get_params()\n",
    "print \"Parameters after learning\", gp2.kernel_.theta\n",
    "print \"Estimated l \", np.exp(gp2.kernel_.theta), \"ground truth l \", 1"
   ]
  },
  {
   "cell_type": "markdown",
   "metadata": {},
   "source": [
    "Example with multidimensional input"
   ]
  },
  {
   "cell_type": "code",
   "execution_count": 27,
   "metadata": {},
   "outputs": [
    {
     "name": "stdout",
     "output_type": "stream",
     "text": [
      "Parameter before learning [10. 10. 10. 10. 10.]\n",
      "Parameters after learning [2.41172954e-03 2.10493426e+02 6.54424220e+01 7.73793273e+03\n",
      " 8.54769136e-01]\n"
     ]
    }
   ],
   "source": [
    "#Dimensions meaning\n",
    "# 0 - (0/1)\n",
    "# 1 - (0/1)\n",
    "# 2 - int (positive: 1,2,3,4)\n",
    "# 3 - {0,1,2}\n",
    "# 4 - kappa (0.0 - 1.0)\n",
    "Xtrain = np.array([\n",
    "    [0,0,2,0,0.04],  #0\n",
    "    [1,0,2,0,0.04],  #1\n",
    "    [1,1,2,0,0.04],  #2\n",
    "    [1,0,1,0,0.04],  #3\n",
    "    [0,0,1,0,0.04],  #4\n",
    "    [0,0,3,0,0.04],  #5\n",
    "    [1,0,2,2,0.04],  #6\n",
    "    [1,0,2,0,0.00],  #7\n",
    "    [1,0,2,0,0.02],  #8\n",
    "    [1,0,2,0,0.07]   #9\n",
    "])\n",
    "Ytrain = np.array([0.357,0.362,0.373,0.346,0.346, #0-4\n",
    "                   0.340,0.3626,0.3034,0.3562,0.3654]) #5-9\n",
    "\n",
    "\n",
    "l = np.full(5,10.0)\n",
    "# se_kernel = RBF(l, (1e-5,1e2))\n",
    "#se_kernel = Matern(l)\n",
    "#se_kernel = Matern(l, nu=1.2)\n",
    "print \"Parameter before learning\", np.exp(se_kernel.theta)\n",
    "\n",
    "\n",
    "## learning part\n",
    "gpReg = GaussianProcessRegressor(kernel=se_kernel, n_restarts_optimizer=9, alpha=1e-06)\n",
    "gpReg = gpReg.fit(Xtrain, Ytrain)\n",
    "print \"Parameters after learning\", np.exp(gpReg.kernel_.theta)"
   ]
  },
  {
   "cell_type": "code",
   "execution_count": 28,
   "metadata": {},
   "outputs": [
    {
     "name": "stdout",
     "output_type": "stream",
     "text": [
      "[0.34068581 0.37297982]\n"
     ]
    }
   ],
   "source": [
    "Xtest = np.array([[1,1,2,0,0.01], #10\n",
    "                  [1,1,2,2, 0.04] #11\n",
    "                 ])\n",
    "\n",
    "# expected output [0.358, 0.356]\n",
    "y_pred, sigma = gpReg.predict(Xtest, return_std=True)\n",
    "print y_pred"
   ]
  },
  {
   "cell_type": "code",
   "execution_count": null,
   "metadata": {},
   "outputs": [],
   "source": []
  }
 ],
 "metadata": {
  "kernelspec": {
   "display_name": "Python 2",
   "language": "python",
   "name": "python2"
  },
  "language_info": {
   "codemirror_mode": {
    "name": "ipython",
    "version": 2
   },
   "file_extension": ".py",
   "mimetype": "text/x-python",
   "name": "python",
   "nbconvert_exporter": "python",
   "pygments_lexer": "ipython2",
   "version": "2.7.14"
  }
 },
 "nbformat": 4,
 "nbformat_minor": 2
}
