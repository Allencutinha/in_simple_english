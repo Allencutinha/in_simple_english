{
 "cells": [
  {
   "cell_type": "markdown",
   "metadata": {},
   "source": [
    "## Tests of fundamental matrix"
   ]
  },
  {
   "cell_type": "code",
   "execution_count": 2,
   "metadata": {},
   "outputs": [],
   "source": [
    "import numpy as np\n",
    "from scipy.linalg import null_space"
   ]
  },
  {
   "cell_type": "code",
   "execution_count": 47,
   "metadata": {
    "scrolled": true
   },
   "outputs": [
    {
     "name": "stdout",
     "output_type": "stream",
     "text": [
      "[[-2 -4 12]\n",
      " [ 6 -2 -8]\n",
      " [ 8 -4 -8]]\n",
      "[[2.002002]\n",
      " [2.002002]\n",
      " [1.001001]]\n"
     ]
    }
   ],
   "source": [
    "F = np.matrix([[-2,-4,12], [6, -2,-8], [8,-4,-8]])\n",
    "print(F)\n",
    "ns = null_space(F)\n",
    "print(ns/0.333)"
   ]
  },
  {
   "cell_type": "markdown",
   "metadata": {},
   "source": [
    "## How to solve a system of linear equations?\n",
    "\n",
    "We need to solve the system of equations $Ax=b$. There are certain things that can happen.\n",
    "    * A is squared and has a full rank\n",
    "    * A is overdetemined. We have more equations than unknowns, or simpler more columns than rows.\n",
    "    * A is overdetermined and observed values for A contain noise. For example in the regression problem.\n",
    "    \n",
    "Questions:\n",
    "    What is the relation between the singular values/vectors and the solution of the system of linear equations?\n",
    "\n",
    "Matrix is squared, determined. We have the same number of equations and variables and matrix has full rank."
   ]
  },
  {
   "cell_type": "code",
   "execution_count": 44,
   "metadata": {
    "scrolled": true
   },
   "outputs": [
    {
     "name": "stdout",
     "output_type": "stream",
     "text": [
      "Direct solution\n",
      "matrix\n",
      " [[2 1]\n",
      " [3 1]]\n",
      "Solution inv: [[1.0000000e+00 8.8817842e-16]]\n",
      "Solution solve [1. 0.]\n"
     ]
    }
   ],
   "source": [
    "from numpy import linalg as LA\n",
    "## solve the system exactly\n",
    "print(\"Direct solution\")\n",
    "A = np.matrix([[2,1], [3,1]])\n",
    "b = np.array([2,3])\n",
    "print(\"matrix\\n\", A)\n",
    "x_naive = np.dot(LA.inv(A),b)\n",
    "print(\"Solution inv:\", x_naive)\n",
    "x_dir = np.linalg.solve(A,b.transpose())\n",
    "print(\"Solution solve\", x_dir)"
   ]
  },
  {
   "cell_type": "code",
   "execution_count": 45,
   "metadata": {},
   "outputs": [
    {
     "name": "stdout",
     "output_type": "stream",
     "text": [
      "Using eigenvalue decomposition\n",
      "Right eigenvectors\n",
      " [[ 0.60889368 -0.3983218 ]\n",
      " [ 0.79325185  0.91724574]]\n",
      "Eigenvalues [ 3.30277564 -0.30277564]\n"
     ]
    }
   ],
   "source": [
    "print(\"Using eigenvalue decomposition\")\n",
    "w, v = np.linalg.eig(A)\n",
    "print(\"Right eigenvectors\\n\", v)\n",
    "print(\"Eigenvalues\", w)"
   ]
  },
  {
   "cell_type": "code",
   "execution_count": 46,
   "metadata": {},
   "outputs": [
    {
     "name": "stdout",
     "output_type": "stream",
     "text": [
      "Singular values [3.86432845 0.25877718]\n",
      "Singular vectors\n",
      " [[-0.93272184 -0.36059668]\n",
      " [ 0.36059668 -0.93272184]]\n"
     ]
    }
   ],
   "source": [
    "u, s, vh = np.linalg.svd(A, full_matrices=True)\n",
    "print(\"Singular values\", s)\n",
    "print(\"Singular vectors\\n\", vh)"
   ]
  },
  {
   "cell_type": "code",
   "execution_count": null,
   "metadata": {},
   "outputs": [],
   "source": []
  }
 ],
 "metadata": {
  "kernelspec": {
   "display_name": "Python 3",
   "language": "python",
   "name": "python3"
  },
  "language_info": {
   "codemirror_mode": {
    "name": "ipython",
    "version": 3
   },
   "file_extension": ".py",
   "mimetype": "text/x-python",
   "name": "python",
   "nbconvert_exporter": "python",
   "pygments_lexer": "ipython3",
   "version": "3.6.6"
  }
 },
 "nbformat": 4,
 "nbformat_minor": 2
}
