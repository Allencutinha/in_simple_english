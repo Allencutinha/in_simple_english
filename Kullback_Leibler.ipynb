{
 "cells": [
  {
   "cell_type": "markdown",
   "metadata": {},
   "source": [
    "## Comparing two 1D discrete distributions. Example\n",
    "\n",
    "We would like to know which distribution d1 or d2 is closer to distribution u.\n",
    "The correct answer here should be that distribution d is closer to u, because it covers the same area the u covers, whereas d2 only exists in the middle of the u (explanation in very simple English :))\n"
   ]
  },
  {
   "cell_type": "code",
   "execution_count": 20,
   "metadata": {
    "scrolled": true
   },
   "outputs": [
    {
     "data": {
      "image/png": "[encoded data removed]",
      "text/plain": [
       "<matplotlib.figure.Figure at 0x7f337ba12a10>"
      ]
     },
     "metadata": {},
     "output_type": "display_data"
    }
   ],
   "source": [
    "import numpy as np\n",
    "import matplotlib.pyplot as plt\n",
    "\n",
    "# small value\n",
    "sm = 1e-09\n",
    "d1 = np.repeat(sm, 10)\n",
    "d1[[0,4,8]]= 0.3\n",
    "d2 = np.repeat(sm, 10)\n",
    "d2[[4,5,6]] = 0.3\n",
    "\n",
    "u = np.repeat(0.1, 10)\n",
    "\n",
    "## plotting\n",
    "ind = np.arange(10)\n",
    "w = 0.2\n",
    "d1_plot = plt.bar(ind - w, d1, width = w, align='center')\n",
    "d2_plot = plt.bar(ind, d2, width= w, align='center')\n",
    "u_plot = plt.bar(ind + w, u, width= w, align='center')\n",
    "plt.legend( (d1_plot[0], d2_plot[0], u_plot[0]), ('d1', 'd2', 'u') )\n",
    "\n",
    "objects = list(map(str, range(10)));\n",
    "plt.xticks(ind, objects);\n"
   ]
  },
  {
   "cell_type": "markdown",
   "metadata": {},
   "source": [
    "### Kullback-Leibler divergence\n",
    "\n",
    "Compares two distribution. Non commutative, thus not a metric.\n",
    "The smaller the value is the more similar two distribution are.\n",
    "\n",
    "$$ D_{KL}(p || q) = \\sum_{i=0}^N p(x_i) \\mathrm{log}\\frac{p(x_i)}{q(x_i)} $$"
   ]
  },
  {
   "cell_type": "code",
   "execution_count": 21,
   "metadata": {
    "scrolled": true
   },
   "outputs": [],
   "source": [
    "def KLDivergence(p,q):\n",
    "    logTerm = np.log2(np.divide(p,q))\n",
    "    d = np.sum(np.multiply(p,logTerm))\n",
    "    return d"
   ]
  },
  {
   "cell_type": "markdown",
   "metadata": {},
   "source": [
    "Before the KL divergence could be applied to the discreet distributions, they should be convolved with gaussian kernel. They should be made more smooth. Otherwise in the given example the value of the divergence is the same for <d1,u> and <d2,u>, since they have the same number of bins of the same height. However, since the location of the bins are not the same, the smoothed version will populate the difference nearby bins. I am more than sure that there is a sane mathematical explanation behind this smoothness action, but I don't know it yet :)"
   ]
  },
  {
   "cell_type": "markdown",
   "metadata": {},
   "source": [
    "### Convolving with gaussian\n",
    "you need to create a Gaussian that's discretized at the same spatial scale as your curve, then just convolve.\n",
    "Specifically, say your original curve has N points that are uniformly spaced along the x-axis\n",
    "Then the point spacing along the x-axis will be (physical range)/(digital range) = (10 -0)/N"
   ]
  },
  {
   "cell_type": "code",
   "execution_count": 22,
   "metadata": {},
   "outputs": [
    {
     "data": {
      "image/png": "[encoded data removed]",
      "text/plain": [
       "<matplotlib.figure.Figure at 0x7f337ba1bd50>"
      ]
     },
     "metadata": {},
     "output_type": "display_data"
    }
   ],
   "source": [
    "def convolve1D(y, sigma, discr):\n",
    "    gx = np.arange(-3*sigma, 3*sigma, discr)\n",
    "    gaussian = np.exp(-(gx/sigma)**2/2)\n",
    "    z = np.convolve(y, gaussian, mode=\"same\")\n",
    "    return z\n",
    "\n",
    "x = np.arange(0,10, 0.1)\n",
    "y = np.repeat(sm, x.shape[0])\n",
    "y[[10,50]] = 0.5\n",
    "\n",
    "z = convolve1D(y, 0.5,0.1)\n",
    "\n",
    "plt.plot(x,y)\n",
    "plt.plot(x, z)\n",
    "plt.show()\n"
   ]
  },
  {
   "cell_type": "code",
   "execution_count": 13,
   "metadata": {},
   "outputs": [
    {
     "name": "stdout",
     "output_type": "stream",
     "text": [
      "1.3495510787832004\n",
      "1.6078272976845267\n"
     ]
    }
   ],
   "source": [
    "sigma = 0.2\n",
    "d1_blurred = convolve1D(d1, sigma, 1)\n",
    "d2_blurred = convolve1D(d2, sigma, 1)\n",
    "\n",
    "\n",
    "#normalize to make it a probability distribution after the convolving\n",
    "d1_blurred = d1_blurred / np.sum(d1_blurred)\n",
    "d2_blurred = d2_blurred / np.sum(d2_blurred)\n",
    "\n",
    "print KLDivergence(d1_blurred,u)\n",
    "print KLDivergence(d2_blurred,u)"
   ]
  },
  {
   "cell_type": "code",
   "execution_count": null,
   "metadata": {},
   "outputs": [],
   "source": []
  }
 ],
 "metadata": {
  "kernelspec": {
   "display_name": "Python 2",
   "language": "python",
   "name": "python2"
  },
  "language_info": {
   "codemirror_mode": {
    "name": "ipython",
    "version": 2
   },
   "file_extension": ".py",
   "mimetype": "text/x-python",
   "name": "python",
   "nbconvert_exporter": "python",
   "pygments_lexer": "ipython2",
   "version": "2.7.12"
  }
 },
 "nbformat": 4,
 "nbformat_minor": 2
}
