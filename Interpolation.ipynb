{
 "cells": [
  {
   "cell_type": "markdown",
   "metadata": {},
   "source": [
    "## Cubic interpolation\n",
    "\n",
    "### Considering unit interval [0,1]\n",
    "Let's assume that we want to interpolate the value in between two given points. And we are not interested in linear interpolation, but would like to fit a polynomial of degree 3. \n",
    "Let's also assume that we want to interpolate for values $x \\in [0,1]$, where f(0) and f(1) are given.\n",
    "Since we are fitting curved function (a polynomial), we would like to preserve the smoothness on the borders.\n",
    "I we would consider to fit a polynomial to more than 2 points. We would anyway fit a polynomial for every pair of points. To preserve the smoothness, the Cubic Hermit Spline (the thing, which we will compose below) takes into account the derivative at these two points. So, for fitting the cubic spline, we also assume that f'(0) and f'(1) are given. Either by someone mighty or compute using the finite difference. To compute the numeric derivative using finite distance we need to also know the value of the function outside [0,1].\n",
    "\n",
    "The general equation for the polynomial of degree 3 is:\n",
    "\n",
    "$$\n",
    "    f(x) = ax^3 + bx^2 + cx + d\n",
    "$$\n",
    "\n",
    "\n",
    "So to fit f(x) we need to find the coefficients (a,b,c,d). For now we have 4 unknowns (a,b,c,d) and 2 equations (for f(0) and f(1)), which gives us underdefined system of linear equations. (Note: the unknowns are a,b,c and d and they are linear).\n",
    "\n",
    "To compensate for this problem we take into account the first derivatives in given points f'(0) and f'(1).\n",
    " \n",
    "$$\n",
    "    f'(x) = 3ax^2 + 2bx + c\n",
    "$$\n",
    "\n",
    "Then we can obtain the following system of equations (1):   \n",
    "\\begin{eqnarray}\n",
    "    f(0)  &=& d \\\\\n",
    "    f(1)  &=& a + b + c +d \\\\\n",
    "    f'(0) &=& c \\\\\n",
    "    f'(1) &=& 3a + 2b + c\n",
    "\\end{eqnarray}\n",
    "\n",
    "Solving for a, b, c, d:  \n",
    "\\begin{eqnarray}\n",
    "    d &=& f(0) \\\\\n",
    "    c &=& f'(0) \\\\\n",
    "    b &=& 3f(1)-2f'(0) - 3f(0) - f'(1) \\\\\n",
    "    a &=& -2f(1) + f'(0) + 2f(0) + f'(1)\n",
    "\\end{eqnarray}\n",
    "\n",
    "Ok, found polynomial coefficients. But how do we know the derivatives given just f(0) and f(1)? This is a point in time where we need two extra points and the knowledge of finite differences :smile:\n",
    "\n",
    "Let's consider the following example. We are given points $[-1,p_0]$, $[0,p_1]$, $[1,p_2]$ and $[2, p_3]$, where $x,f(x)]$. and we want to interpolate between $[0, p_1]$ and $[1, p_2]$.\n",
    "Then,  \n",
    "\\begin{eqnarray}\n",
    "    f(0)  &=& p_1 \\\\\n",
    "    f(1)  &=& p_2 \\\\\n",
    "    f'(0) &=& (p_2 - p_0) / 1-(-1)  \\\\\n",
    "    f'(1) &=& (p_3 - p_1) / 2  \\\\\n",
    "\\end{eqnarray}\n",
    "\n",
    "the following holds:\n",
    "\\begin{eqnarray}\n",
    "    a &=& 0.5 * (3p_1 - p_0 - 3p_2 + p_3) \\\\\n",
    "    b &=& p_0 - 2.5p_1 + 2p_2 - 0.5p_3\\\\\n",
    "    c &=& 0.5(p_2 - p_0) \\\\\n",
    "    d &=& p_1\n",
    "\\end{eqnarray}\n",
    "\n",
    "The final polynom then is:\n",
    "\n",
    "\\begin{equation}\n",
    " f(x) = 0.5 * (3p_1 - p_0 - 3p_2 + p_3) x^3 + (p_0 - 2.5p_1 + 2p_2 - 0.5p_3) x^2 + 0.5(p_2 - p_0) x + p_1 \n",
    "\\end{equation}\n",
    "\n",
    "**Warning** This only works if your x is between 0 and 1 and all the points are located at distance 1 from each other in x axis."
   ]
  },
  {
   "cell_type": "code",
   "execution_count": 13,
   "metadata": {},
   "outputs": [
    {
     "name": "stdout",
     "output_type": "stream",
     "text": [
      "Polynomial coefficients:  4.0 -6.5 0.5 5\n"
     ]
    },
    {
     "data": {
      "image/png": "[encoded data removed]",
      "text/plain": [
       "<Figure size 432x288 with 1 Axes>"
      ]
     },
     "metadata": {
      "needs_background": "light"
     },
     "output_type": "display_data"
    }
   ],
   "source": [
    "## Code for testing the cubic interpolation\n",
    "import numpy as np\n",
    "import matplotlib.pyplot as plt\n",
    "\n",
    "x = np.array([-1, 0, 1, 2])\n",
    "fx = np.array([2, 5, 3,4])\n",
    "\n",
    "a = 0.5 * (3 * fx[1] - fx[0] - 3*fx[2] + fx[3]);\n",
    "b = fx[0] - 2.5 * fx[1] + 2 * fx[2] - 0.5 * fx[3];\n",
    "c = 0.5 * (fx[2]- fx[0])\n",
    "d = fx[1]\n",
    "print(\"Polynomial coefficients: \",a,b,c,d)\n",
    "\n",
    "x_t = np.arange(-1, 2,0.1);\n",
    "f_x = a* np.power(x_t,3) + b*np.power(x_t,2) + c*x_t + d;\n",
    "\n",
    "# fig=plt.figure(figsize=(16, 4), dpi= 80, facecolor='w', edgecolor='k')\n",
    "fig = plt.figure(1)\n",
    "plt.plot(x,fx, 'r*')\n",
    "plt.plot(x_t,f_x, 'b-')\n",
    "plt.title(\"Cubic interpolation image\");"
   ]
  },
  {
   "cell_type": "markdown",
   "metadata": {},
   "source": [
    "#### Matrix formulation\n",
    "In the above derivation, we basically solved the system of linear equation with respect to a,b,c,d by explicit substition. In general, we can rewrite this system in matrix notation and solve using technique for solving systems of linear equation using matrices. We can rewrite the Equations (1), as:\n",
    "\n",
    "$$\n",
    "\\begin{pmatrix}\n",
    "    0 & 0 & 0 & 1 \\\\\n",
    "    1 & 1 & 1 & 1 \\\\\n",
    "    0 & 0 & 1 & 0 \\\\\n",
    "    3 & 2 & 1 & 0\n",
    "\\end{pmatrix} \n",
    "\\begin{pmatrix}\n",
    "a \\\\ b\\\\ c \\\\d \n",
    "\\end{pmatrix} = \n",
    "\\begin{pmatrix}\n",
    "f(0) \\\\ f(1) \\\\ f'(0) \\\\ f'(1)\n",
    "\\end{pmatrix}\n",
    "$$\n",
    "\n",
    "Afterwards solving for (a,b,c,d) should give the result. Let's check it with a code."
   ]
  },
  {
   "cell_type": "code",
   "execution_count": 14,
   "metadata": {},
   "outputs": [
    {
     "name": "stdout",
     "output_type": "stream",
     "text": [
      "Checking matrix formulation\n",
      "Polynomial coefficients:  4.0 -6.5 0.5 5.0\n"
     ]
    },
    {
     "data": {
      "image/png": "[encoded data removed]",
      "text/plain": [
       "<Figure size 432x288 with 1 Axes>"
      ]
     },
     "metadata": {
      "needs_background": "light"
     },
     "output_type": "display_data"
    }
   ],
   "source": [
    "## considering x, fx from previous cell\n",
    "from numpy import linalg as LA\n",
    "print(\"Checking matrix formulation\")\n",
    "F = np.matrix([[0,0,0,1],[1,1,1,1], [0,0,1,0], [3,2,1,0]])\n",
    "b = np.array([fx[1], fx[2], 0.5 * (fx[2] - fx[0]), 0.5 * (fx[3]-fx[1])])\n",
    "abcd = np.linalg.solve(F,b)\n",
    "print(\"Polynomial coefficients: \",abcd[0], abcd[1], abcd[2], abcd[3])\n",
    "\n",
    "f_x = abcd[0]* np.power(x_t,3) + abcd[1]*np.power(x_t,2) + abcd[2]*x_t + abcd[3];\n",
    "\n",
    "# fig=plt.figure(figsize=(16, 4), dpi= 80, facecolor='w', edgecolor='k')\n",
    "fig = plt.figure(1)\n",
    "plt.plot(x,fx, 'r*')\n",
    "plt.plot(x_t,f_x, 'b-')\n",
    "plt.title(\"Cubic interpolation image\");\n"
   ]
  },
  {
   "cell_type": "markdown",
   "metadata": {},
   "source": [
    "The last equation derived above is also confirmed by Wikipedia (https://en.wikipedia.org/wiki/Cubic_Hermite_spline) on the unit interval. If we rearrange, the $f(x)$ with respect to $p_0,p_1, p_2,p_3$ rather than $x$, we get exactly the formula from Wikipedia (Checked!).\n",
    "\n",
    "**Side note** (for curious)\n",
    "After the rearrangement the polynomial will have the following form:\n",
    "\n",
    "$$\n",
    "    f(x) = (2x^3 - 3x^2 + 1)f(0) + (x^3-2x^2+x)f'(0) + (-2x^3+3x^2)f(1) + (x^3-x^2)f'(1)\n",
    "$$\n",
    "\n",
    "The \"coeffients\" in this case are called Hermite basis functions and have further properties (not relevant here).\n",
    "\n",
    "$$\n",
    "    f(x) = h_{00}f(0) + h_{01}f'(0) + h_{10}f(1) + h_{11}f'(1)\n",
    "$$\n",
    "\n",
    "### Arbitrary interval\n",
    "\n",
    "Ok. What if the x coordinates are not 0 and 1? Since, all the nice equations above hold only if we compute f'(0) and f'(1).\n",
    "I guess, there 2 cases to consider:\n",
    "    1) Your points are at 1 distance but shifted somewhere. Then the solution would be to shift the result.\n",
    "    2) The points are not equidistant or the distance is not 1. Then one would need to take distance into account for computing derivatives."
   ]
  },
  {
   "cell_type": "markdown",
   "metadata": {},
   "source": [
    "## Bicubic interpolation\n",
    "\n",
    "[See https://en.wikipedia.org/wiki/Bicubic_interpolation for explicit computation of all terms.]\n",
    "\n",
    "Analogously to the cubic interpolation, we would like to fit a 3 degree polynomial, but now for the 2D data.\n",
    "The general equation for the 2D polynomial of 3 order is:\n",
    "\n",
    "$$\n",
    "    f(x,y) = \\sum_{i=0}^3\\sum_{j=0}^3 a_{ij}x^iy^j\n",
    "$$\n",
    "\n",
    "Rewritting this by opening the sum will give us $16$ coeffients.\n",
    "\n",
    "\\begin{eqnarray}\n",
    "    f(x,y) =  a_{00}x^0y^0 + a_{01}x^0y^1 + a_{02}x^0y^2 + a_{03}x^0y^3 + \\\\\n",
    "               a_{10}x^1y^0 + a_{11}x^1y^1 + a_{12}x^1y^2 + a_{13}x^1y^3 + \\\\\n",
    "               a_{20}x^2y^0 + a_{21}x^2y^1 + a_{22}x^2y^2 + a_{23}x^2y^3 + \\\\\n",
    "               a_{30}x^3y^0 + a_{31}x^3y^1 + a_{32}x^3y^2 + a_{33}x^3y^3 + \\\\            \n",
    "\\end{eqnarray}\n",
    "\n",
    "As in 1D case, we assume unit square $[0,1] x [0,1]$ and to fit a polynomial, we assume the function value on the boundaries to be given f(0,0), f(0,1), f(1,0), f(1,1). Then, we estimate first 4 equations, by evaluating f(x,y) at the boundaries.\n",
    "As well as in 1D case to preserve the smoothness on the borders, we also assume to know the partial derivatives $f_{x}(x,y)$, $f_{y}(x,y)$ and mixed partial derivatives $f_{xy}(x,y)$. Evaluating these partial derivatives on the boundaries gives us further 12 equations.\n",
    "\n",
    "As in matrix formulation for 1D case, we can form a 16x16 matrix of parameters and respective f(.,.) terms and solve the system of linear equations with respect to $a_{ij}$ parameters. See [https://en.wikipedia.org/wiki/Bicubic_interpolation](Bicubic interpolation) for full matrix.\n",
    "\n",
    "In more favourable matrix form, the coeffients can be found as:\n",
    "\n",
    "$$\n",
    "\\begin{pmatrix}\n",
    "    a_{00} & a_{01} & a_{02} & a_{03} \\\\ \n",
    "    a_{10} & a_{11} & a_{12} & a_{13} \\\\\n",
    "    a_{20} & a_{21} & a_{22} & a_{23} \\\\\n",
    "    a_{30} & a_{31} & a_{32} & a_{33} \n",
    "\\end{pmatrix} \n",
    "=\n",
    "\\begin{pmatrix}\n",
    "    1 & 0 & 0 & 0 \\\\ \n",
    "    0 & 0 & 1 & 0 \\\\\n",
    "    -3 & 3 & -2 & -1 \\\\\n",
    "    2 & -2 & 1 & 1 \n",
    "\\end{pmatrix}  \n",
    "\\begin{pmatrix}\n",
    "    f(0,0) & f(0,1) & f_y(0,0) & f_y(0,1) \\\\ \n",
    "    f(1,0) & f(1,1) & f_y(1,0) & f_y(1,1) \\\\\n",
    "    f_x(0,0)& f_x(0,1) & f_{xy}(0,0) & f_{xy}(0,1) \\\\\n",
    "    f_x(1,0) & f_x(1,1) & f_{xy}(1,0) & f_{xy}(1,1) \n",
    "\\end{pmatrix}\n",
    "\\begin{pmatrix}\n",
    "    1 & 0 & -3 & 2 \\\\ \n",
    "    0 & 0 & 3 & -2 \\\\\n",
    "    0 & 1 & -2 & 1 \\\\\n",
    "    0 & 0 & -1 & 1 \n",
    "\\end{pmatrix}\n",
    "$$\n",
    "\n",
    "The final interpolated value can be obtained as:\n",
    "\n",
    "$$\n",
    " f(x,y) = \n",
    " \\begin{pmatrix}\n",
    "  1 & x & x^2 & x^3\n",
    " \\end{pmatrix}\n",
    " \\begin{pmatrix}\n",
    "    a_{00} & a_{01} & a_{02} & a_{03} \\\\ \n",
    "    a_{10} & a_{11} & a_{12} & a_{13} \\\\\n",
    "    a_{20} & a_{21} & a_{22} & a_{23} \\\\\n",
    "    a_{30} & a_{31} & a_{32} & a_{33} \n",
    "\\end{pmatrix} \n",
    "\\begin{pmatrix}\n",
    "  1 \\\\ y \\\\ y^2 \\\\ y^3\n",
    "\\end{pmatrix}\n",
    "$$\n",
    "\n",
    "\n",
    "## Finding derivatives\n",
    "\n",
    "To solve the anove specified system, we either need to know all the derivatives beforehand, or we can approximate them using the [finite differences](https://en.wikipedia.org/wiki/Finite_difference).\n",
    "The partial derivative then can be computed as:\n",
    "\n",
    "\\begin{eqnarray}\n",
    "    f_x(x,y) &=& 0.5 * (f(x+h, y) - f(x-h,y)) \\\\\n",
    "    f_y(x,y) &=& 0.5 * (f(x, y+k) - f(x, y-k)) \\\\\n",
    "    f_{xy}(x,y) &=& \\frac{f(x+h,y+k) - f(x+h, y-k) - f(x-h,y+k) + f(x-h, y-k)}{4hk}\n",
    "\\end{eqnarray}\n",
    "\n",
    "For the case of bicubic interpolation, all our values are equidistance with distance 1 (since we work with pixels). So, h and k are equal to 1.\n",
    "Considering the image patch like in the image\n",
    "![image](data/bicubic_int.png)\n",
    "If we want to find the partial derivatives for the point $c_{11}$, they will involve the following pixels:\n",
    "\n",
    "\\begin{eqnarray}\n",
    "    f_x(x,y) &=& 0.5 * (c_{12} - c_{10}) \\\\\n",
    "    f_y(x,y) &=& 0.5 * (c_{21} - c_{01}) \\\\\n",
    "    f_{xy}(x,y) &=& \\frac{c_{22}- c_{02} - c_{20} + c_{00}}{4}\n",
    "\\end{eqnarray}\n"
   ]
  },
  {
   "cell_type": "code",
   "execution_count": 15,
   "metadata": {},
   "outputs": [],
   "source": [
    "def bicubicInterpolation(image, scale):\n",
    "    orig_rows = image.shape[0];\n",
    "    orig_cols = image.shape[1];\n",
    "    img_sc = np.zeros((orig_rows*scale, orig_cols*scale));\n",
    "#     append 2 columns for each border\n",
    "    B = np.matrix([[1.0, 0, 0, 0], [0, 0, 1, 0], [-3, 3, -2, -1], [2, -2, 1, 1]])\n",
    "    C = np.matrix([[1.0, 0, -3, 2], [0, 0, 3, -2], [0, 1, -2, 1], [0, 0, -1, 1]])\n",
    "    \n",
    "    for r in range(0, img_sc.shape[0]):\n",
    "        for c in range (0, img_sc.shape[1]):   \n",
    "            orig_row = int(np.floor(r/scale))\n",
    "            orig_col = int(np.floor(c/scale))\n",
    "            patch = np.zeros((4,4));\n",
    "            ## make a patch to avoid border conditions check\n",
    "            pr = 0;\n",
    "            pc = 0;\n",
    "            for y in range(orig_row-1, orig_row + 3):\n",
    "                for x in range(orig_col - 1, orig_col +3):\n",
    "                    x = max(0, x);\n",
    "                    x = min(x, orig_cols - 1);\n",
    "                    y = max(0, y);\n",
    "                    y = min(y, orig_rows - 1)\n",
    "                    patch[pr,pc] = image[y,x]\n",
    "                    pc += 1;\n",
    "                pr += 1;\n",
    "                pc = 0;\n",
    "            \n",
    "            F = np.zeros((4,4));\n",
    "            ## where to find f values in a constructed patch\n",
    "            f00 = [1,1];\n",
    "            f01 = [1,2];\n",
    "            f10 = [2,1];\n",
    "            f11 = [2,2];\n",
    "            \n",
    "            F[0,0] = patch[f00[0], f00[1]];\n",
    "            F[0,1] = patch[f01[0], f01[1]];\n",
    "            F[1,0] = patch[f10[0], f10[1]];\n",
    "            F[1,1] = patch[f11[0], f11[1]];\n",
    "            ## y derivatives\n",
    "            F[0,2] = 0.5 * (patch[f00[0], f00[1] + 1] - patch[f00[0], f00[1] - 1])\n",
    "            F[0,3] = 0.5 * (patch[f01[0], f01[1] + 1] - patch[f01[0], f01[1] - 1])\n",
    "            F[1,2] = 0.5 * (patch[f10[0], f10[1] + 1] - patch[f10[0], f10[1] - 1])\n",
    "            F[1,3] = 0.5 * (patch[f11[0], f11[1] + 1] - patch[f11[0], f11[1] - 1])\n",
    "            ## x derivatives\n",
    "            F[2,0] = 0.5 * (patch[f00[0] +1, f00[1]] - patch[f00[0] -1, f00[1]])\n",
    "            F[2,1] = 0.5 * (patch[f01[0] +1, f01[1]] - patch[f01[0] -1, f01[1]])\n",
    "            F[3,0] = 0.5 * (patch[f10[0] +1, f10[1]] - patch[f10[0] -1, f10[1]])\n",
    "            F[3,1] = 0.5 * (patch[f11[0] +1, f11[1]] - patch[f11[0] -1, f11[1]])\n",
    "            # mixed derivatives\n",
    "            F[2,2] = 0.25* (patch[f00[0]+1, f00[1]+1] - patch[f00[0]+1, f00[1]-1] - \n",
    "                            patch[f00[0]-1, f00[1]+1] + patch[f00[0]-1, f00[1]-1])\n",
    "            F[2,3] = 0.25* (patch[f01[0]+1, f01[1]+1] - patch[f01[0]+1, f01[1]-1] - \n",
    "                            patch[f01[0]-1, f01[1]+1] + patch[f01[0]-1, f01[1]-1])\n",
    "            F[3,2] = 0.25* (patch[f10[0]+1, f10[1]+1] - patch[f10[0]+1, f10[1]-1] - \n",
    "                            patch[f10[0]-1, f10[1]+1] + patch[f10[0]-1, f10[1]-1])\n",
    "            F[3,3] = 0.25* (patch[f11[0]+1, f11[1]+1] - patch[f11[0]+1, f11[1]-1] - \n",
    "                            patch[f11[0]-1, f11[1]+1] + patch[f11[0]-1, f11[1]-1])\n",
    "            A = B.dot(F).dot(C);\n",
    "            dx = c/scale - np.floor(c/scale);\n",
    "            dy = r/scale - np.floor(r/scale);\n",
    "            Y = np.matrix([[1, dy, np.power(dy,2), np.power(dy,3)]])\n",
    "            X = np.matrix([[1], [dx], [np.power(dx,2)], [np.power(dx,3)]])\n",
    "            img_sc[r,c] = Y*A*X;\n",
    "            \n",
    "    return img_sc;\n",
    "    "
   ]
  },
  {
   "cell_type": "code",
   "execution_count": 16,
   "metadata": {},
   "outputs": [
    {
     "name": "stdout",
     "output_type": "stream",
     "text": [
      "[[10  0]\n",
      " [ 0  0]]\n",
      "[[10.         5.         0.        -0.625    ]\n",
      " [ 5.         2.5        0.        -0.3125   ]\n",
      " [ 0.         0.         0.         0.       ]\n",
      " [-0.625     -0.3125     0.         0.0390625]]\n"
     ]
    }
   ],
   "source": [
    "## testing the interpolation\n",
    "m = np.matrix([[10,0], [0,0]]);\n",
    "scale = 2;\n",
    "print(m)\n",
    "img_sc= bicubicInterpolation(m, scale);\n",
    "print(img_sc)"
   ]
  },
  {
   "cell_type": "code",
   "execution_count": 19,
   "metadata": {},
   "outputs": [
    {
     "data": {
      "image/png": "[encoded data removed]",
      "text/plain": [
       "<Figure size 432x288 with 1 Axes>"
      ]
     },
     "metadata": {
      "needs_background": "light"
     },
     "output_type": "display_data"
    }
   ],
   "source": [
    "import cv2\n",
    "import matplotlib.pyplot as plt\n",
    "img_name = 'data/tiny_img.png';\n",
    "image = cv2.imread(img_name, 0);\n",
    "image = image.astype('float')\n",
    "# new_img = cv2.cvtColor(image, cv2.COLOR_BGR2RGB)\n",
    "# image = image.astype('float')\n",
    "plt.imshow(image);"
   ]
  },
  {
   "cell_type": "code",
   "execution_count": 32,
   "metadata": {},
   "outputs": [
    {
     "data": {
      "image/png": "[encoded data removed]",
      "text/plain": [
       "<Figure size 432x288 with 1 Axes>"
      ]
     },
     "metadata": {
      "needs_background": "light"
     },
     "output_type": "display_data"
    }
   ],
   "source": [
    "img_sc= bicubicInterpolation(image, 3);\n",
    "plt.imshow(img_sc);"
   ]
  },
  {
   "cell_type": "markdown",
   "metadata": {},
   "source": [
    "# Comparison between image interpolations\n",
    "Now I want to see the difference between the nearest neighbour, bilinear and cubic interpolation.\n",
    "\n",
    "### Nearest neighbour interpolation"
   ]
  },
  {
   "cell_type": "code",
   "execution_count": 30,
   "metadata": {},
   "outputs": [
    {
     "data": {
      "image/png": "[encoded data removed]",
      "text/plain": [
       "<Figure size 432x288 with 1 Axes>"
      ]
     },
     "metadata": {
      "needs_background": "light"
     },
     "output_type": "display_data"
    }
   ],
   "source": [
    "def nnInterpolation(image, scale):\n",
    "    orig_rows = image.shape[0];\n",
    "    orig_cols = image.shape[1];\n",
    "    img_sc = np.zeros((orig_rows*scale, orig_cols*scale));\n",
    "    for r in range(0,img_sc.shape[0]):\n",
    "        for c in range(0, img_sc.shape[1]):\n",
    "            orig_pix_r = int(np.floor(r/scale));\n",
    "            orig_pix_c = int(np.floor(c/scale));\n",
    "            img_sc[r,c] = image[orig_pix_r, orig_pix_c];\n",
    "    return img_sc\n",
    "img_sc= nnInterpolation(image, 3);\n",
    "plt.imshow(img_sc);"
   ]
  },
  {
   "cell_type": "markdown",
   "metadata": {},
   "source": [
    "### Bilinear interpolation\n"
   ]
  },
  {
   "cell_type": "code",
   "execution_count": null,
   "metadata": {},
   "outputs": [],
   "source": [
    "def bilinearInterpolation(image, scale):\n",
    "    orig_rows = image.shape[0];\n",
    "    orig_cols = image.shape[1];\n",
    "    img_sc = np.zeros((orig_rows*scale, orig_cols*scale));\n",
    "    \n",
    "    for r=1:new_size(1),\n",
    "        for c = 1:new_size(2)\n",
    "            orig_pix_r = int(np.floor(r/scale));\n",
    "            orig_pix_c = int(np.floor(c/scale));\n",
    "\n",
    "            ## establishing neighboring pixels coordinates\n",
    "            p_row_up = max(0, floor(p(1)));\n",
    "            p_row_down = min(orig_size(1) - 1, ceil(p(1)));\n",
    "            p_col_left = max(0, floor(p(2)));\n",
    "            p_col_right = min(orig_size(2) - 1, ceil(p(2)));\n",
    "            a00 = double(img(p_row_up + 1, p_col_left + 1,:));\n",
    "            a01 = double(img(p_row_up + 1, p_col_right + 1,:));\n",
    "            a10 = double(img(p_row_down + 1, p_col_left + 1,:));\n",
    "            a11 = double(img(p_row_down + 1, p_col_right + 1,:));\n",
    "            dx = p(1) - p_row_up;\n",
    "            dy = p(2) - p_col_left;\n",
    "            img_sc(r,c,:) = a00.* (1.- dx) * (1. - dy) ... \n",
    "                            + a01.* (1.- dx) * dy ...\n",
    "                            + a10.* dx * (1.- dy) ...\n",
    "                            + a11.* dx * dy;\n",
    "        end\n",
    "    end\n",
    "end"
   ]
  }
 ],
 "metadata": {
  "kernelspec": {
   "display_name": "Python 3",
   "language": "python",
   "name": "python3"
  },
  "language_info": {
   "codemirror_mode": {
    "name": "ipython",
    "version": 3
   },
   "file_extension": ".py",
   "mimetype": "text/x-python",
   "name": "python",
   "nbconvert_exporter": "python",
   "pygments_lexer": "ipython3",
   "version": "3.6.8"
  }
 },
 "nbformat": 4,
 "nbformat_minor": 2
}
