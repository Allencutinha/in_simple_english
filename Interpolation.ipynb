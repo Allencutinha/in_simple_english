{
 "cells": [
  {
   "cell_type": "markdown",
   "metadata": {},
   "source": [
    "## Cubic interpolation\n",
    "Let's assume that we want to interpolate the value in between two given points. And we are not interested in linear interpolation, but would like to fit a polynomial of degree 3. The general equation for the polynomial of degree 3 is:\n",
    "$$\n",
    "    f(x) = ax^3 + bx^2 + cx + d\n",
    "$$\n",
    " Let's also assume that we want to interpolate for values $x \\in [0,1]$, where f(0) and f(1) are given.\n",
    " So to fit f(x) we need to find the coefficients (a,b,c,d). For now we have 4 unknowns (a,b,c,d) and 2 equations (for f(0) and f(1)), which gives us underdefined system of linear equations. (Note: the unknowns are a,b,c and d and they are linear).\n",
    " \n",
    " **Hypothesis 1**  To compensate for this problem we take into account the first derivatives in given points f'(0) and f'(1).\n",
    " \n",
    "**Hypothesis 2** My natural solution, however, would be to add more points to build the system. Somehow this is not a solution I found (???)\n",
    "\n",
    "Following hypothesis 1 for now.\n",
    "$$\n",
    "    f'(x) = 3ax^2 + 2bx + c\n",
    "$$\n",
    "\n",
    "Then we can obtain the following system of equations:   \n",
    "$\n",
    "    f(0) = d \\\\\n",
    "    f(1) = a + b + c +d \\\\\n",
    "    f'(0) = c \\\\\n",
    "    f'(1) = 3a + 2b + c\n",
    "$\n",
    "\n",
    "Solving for a, b, c, d:  \n",
    "\\begin{eqnarray}\n",
    "    d &=& f(0) \\\\\n",
    "    c &=& f'(0) \\\\\n",
    "    b &=& 3f(1)-2f'(0) - 3f(0) - f'(1) \\\\\n",
    "    a &=& -2f(1) + f'(0) + 2f(0) + f'(1)\n",
    "\\end{eqnarray}\n",
    "\n",
    "Ok, found polynomial coefficients. But how do we know the derivatives given just f(0) and f(1)? This is a point in time where we need two extra points and the knowledge of finite differences :smile:\n",
    "\n",
    "Let's consider the following example. We are given points $[-1,p_0]$, $[0,p_1]$, $[1,p_2]$ and $[2, p_3]$, where $x,f(x)]$. and we want to interpolate between $[0, p_1]$ and $[1, p_2]$.\n",
    "Then,  \n",
    "$\n",
    "    f(0) = p_1 \\\\\n",
    "    f(1) = p_2 \\\\\n",
    "    f'(0) = (p_2 - p_0) / 1-(-1)  \\\\\n",
    "    f'(1) = (p_3 - p_1) / 2  \\\\\n",
    "$\n",
    "\n",
    "the following holds:\n",
    "\\begin{eqnarray}\n",
    "    a &=& -2p_2 + 0.5(p_2 - p_0) + 2p_1 + 0.5(p_3 - p_1) \\\\\n",
    "    b &=& 2p_2 + p_0 - 3p_1- 0.5(p_3 - p_1) \\\\\n",
    "    c &=& 0.5(p_2 - p_0) \\\\\n",
    "    d &=& p_1\n",
    "\\end{eqnarray}\n",
    "\n",
    "**Warning** This only works if your x is between 0 and 1 and all the points are located at distance 1 from each other in x axis."
   ]
  },
  {
   "cell_type": "code",
   "execution_count": 7,
   "metadata": {},
   "outputs": [
    {
     "name": "stdout",
     "output_type": "stream",
     "text": [
      "1.5\n"
     ]
    }
   ],
   "source": [
    "## Code for testing the cubic interpolation\n",
    "import numpy as np\n",
    "\n",
    "p_x = np.array([-1, 0, 1, 2])\n",
    "p_fx = np.array([2, 5, 3,4])\n",
    "\n",
    "a = -2 * p_fx[2] + 0.5 * (p_fx[2] - p_fx[1]) + 2*p_fx[1] + 0.5* (p_fx[3] - p_fx[1]);\n",
    "b = 2 * p_fx[2]  + p_fx[0] - 3*p_fx[1] - 0.5*(p_fx[3] - p_fx[1]);\n",
    "c = 0.5 * (p_fx[2]- p_fx[0])\n",
    "d = p_fx[1]\n",
    "\n",
    "x = 1;\n",
    "f_x = a *x*x*x + b*x*x + c*x +d;\n",
    "print(f_x)"
   ]
  },
  {
   "cell_type": "code",
   "execution_count": null,
   "metadata": {},
   "outputs": [],
   "source": []
  }
 ],
 "metadata": {
  "kernelspec": {
   "display_name": "Python 3",
   "language": "python",
   "name": "python3"
  },
  "language_info": {
   "codemirror_mode": {
    "name": "ipython",
    "version": 3
   },
   "file_extension": ".py",
   "mimetype": "text/x-python",
   "name": "python",
   "nbconvert_exporter": "python",
   "pygments_lexer": "ipython3",
   "version": "3.6.7"
  }
 },
 "nbformat": 4,
 "nbformat_minor": 2
}
