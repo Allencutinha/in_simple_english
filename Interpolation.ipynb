{
 "cells": [
  {
   "cell_type": "markdown",
   "metadata": {},
   "source": [
    "## Cubic interpolation\n",
    "\n",
    "### Considering unit interval [0,1]\n",
    "Let's assume that we want to interpolate the value in between two given points. And we are not interested in linear interpolation, but would like to fit a polynomial of degree 3. \n",
    "Let's also assume that we want to interpolate for values $x \\in [0,1]$, where f(0) and f(1) are given.\n",
    "Since we are fitting curved function (a polynomial), we would like to preserve the smoothness on the borders.\n",
    "I we would consider to fit a polynomial to more than 2 points. We would anyway fit a polynomial for every pair of points. To preserve the smoothness, the Cubic Hermit Spline (the thing, which we will compose below) takes into account the derivative at these two points. So, for fitting the cubic spline, we also assume that f'(0) and f'(1) are given. Either by someone mighty or compute using the finite difference. To compute the numeric derivative using finite distance we need to also know the value of the function outside [0,1].\n",
    "\n",
    "The general equation for the polynomial of degree 3 is:\n",
    "\n",
    "$$\n",
    "    f(x) = ax^3 + bx^2 + cx + d\n",
    "$$\n",
    "\n",
    "\n",
    "So to fit f(x) we need to find the coefficients (a,b,c,d). For now we have 4 unknowns (a,b,c,d) and 2 equations (for f(0) and f(1)), which gives us underdefined system of linear equations. (Note: the unknowns are a,b,c and d and they are linear).\n",
    "\n",
    "To compensate for this problem we take into account the first derivatives in given points f'(0) and f'(1).\n",
    " \n",
    "$$\n",
    "    f'(x) = 3ax^2 + 2bx + c\n",
    "$$\n",
    "\n",
    "Then we can obtain the following system of equations:   \n",
    "\\begin{eqnarray}\n",
    "    f(0)  &=& d \\\\\n",
    "    f(1)  &=& a + b + c +d \\\\\n",
    "    f'(0) &=& c \\\\\n",
    "    f'(1) &=& 3a + 2b + c\n",
    "\\end{eqnarray}\n",
    "\n",
    "Solving for a, b, c, d:  \n",
    "\\begin{eqnarray}\n",
    "    d &=& f(0) \\\\\n",
    "    c &=& f'(0) \\\\\n",
    "    b &=& 3f(1)-2f'(0) - 3f(0) - f'(1) \\\\\n",
    "    a &=& -2f(1) + f'(0) + 2f(0) + f'(1)\n",
    "\\end{eqnarray}\n",
    "\n",
    "Ok, found polynomial coefficients. But how do we know the derivatives given just f(0) and f(1)? This is a point in time where we need two extra points and the knowledge of finite differences :smile:\n",
    "\n",
    "Let's consider the following example. We are given points $[-1,p_0]$, $[0,p_1]$, $[1,p_2]$ and $[2, p_3]$, where $x,f(x)]$. and we want to interpolate between $[0, p_1]$ and $[1, p_2]$.\n",
    "Then,  \n",
    "$\n",
    "    f(0) = p_1 \\\\\n",
    "    f(1) = p_2 \\\\\n",
    "    f'(0) = (p_2 - p_0) / 1-(-1)  \\\\\n",
    "    f'(1) = (p_3 - p_1) / 2  \\\\\n",
    "$\n",
    "\n",
    "the following holds:\n",
    "\\begin{eqnarray}\n",
    "    a &=& 0.5 * (3p_1 - p_0 - 3p_2 + p_3) \\\\\n",
    "    b &=& p_0 - 2.5p_1 + 2p_2 - 0.5p_3\\\\\n",
    "    c &=& 0.5(p_2 - p_0) \\\\\n",
    "    d &=& p_1\n",
    "\\end{eqnarray}\n",
    "\n",
    "The final polynom then is:\n",
    "\n",
    "\\begin{equation}\n",
    " f(x) = 0.5 * (3p_1 - p_0 - 3p_2 + p_3) x^3 + (p_0 - 2.5p_1 + 2p_2 - 0.5p_3) x^2 + 0.5(p_2 - p_0) x + p_1 \n",
    "\\end{equation}\n",
    "\n",
    "**Warning** This only works if your x is between 0 and 1 and all the points are located at distance 1 from each other in x axis."
   ]
  },
  {
   "cell_type": "code",
   "execution_count": 28,
   "metadata": {},
   "outputs": [
    {
     "name": "stdout",
     "output_type": "stream",
     "text": [
      "Polynomial coefficients:  4.0 -6.5 0.5 5\n"
     ]
    },
    {
     "data": {
      "image/png": "[encoded data removed]",
      "text/plain": [
       "<Figure size 432x288 with 1 Axes>"
      ]
     },
     "metadata": {
      "needs_background": "light"
     },
     "output_type": "display_data"
    }
   ],
   "source": [
    "## Code for testing the cubic interpolation\n",
    "import numpy as np\n",
    "import matplotlib.pyplot as plt\n",
    "\n",
    "x = np.array([-1, 0, 1, 2])\n",
    "fx = np.array([2, 5, 3,4])\n",
    "\n",
    "a = 0.5 * (3 * fx[1] - fx[0] - 3*fx[2] + fx[3]);\n",
    "b = fx[0] - 2.5 * fx[1] + 2 * fx[2] - 0.5 * fx[3];\n",
    "c = 0.5 * (fx[2]- fx[0])\n",
    "d = fx[1]\n",
    "print(\"Polynomial coefficients: \",a,b,c,d)\n",
    "\n",
    "x_t = np.arange(-1, 2,0.1);\n",
    "f_x = a* np.power(x_t,3) + b*np.power(x_t,2) + c*x_t + d;\n",
    "\n",
    "# fig=plt.figure(figsize=(16, 4), dpi= 80, facecolor='w', edgecolor='k')\n",
    "fig = plt.figure(1)\n",
    "plt.plot(x,fx, 'r*')\n",
    "plt.plot(x_t,f_x, 'b-')\n",
    "plt.title(\"Cubic interpolation image\");"
   ]
  },
  {
   "cell_type": "markdown",
   "metadata": {},
   "source": [
    "The last equation derived above is also confirmed by Wikipedia (https://en.wikipedia.org/wiki/Cubic_Hermite_spline) on the unit interval. If we rearrange, the $f(x)$ with respect to $p_0,p_1, p_2,p_3$ rather than $x$, we get exactly the formula from Wikipedia (Checked!).\n",
    "\n",
    "**Side note** (for curious)\n",
    "After the rearrangement the polynomial will have the following form:\n",
    "\n",
    "$$\n",
    "    f(x) = (2x^3 - 3x^2 + 1)f(0) + (x^3-2x^2+x)f'(0) + (-2x^3+3x^2)f(1) + (x^3-x^2)f'(1)\n",
    "$$\n",
    "\n",
    "The \"coeffients\" in this case are called Hermite basis functions and have further properties (not relevant here).\n",
    "\n",
    "$$\n",
    "    f(x) = h_{00}f(0) + h_{01}f'(0) + h_{10}f(1) + h_{11}f'(1)\n",
    "$$\n",
    "\n",
    "### Arbitrary interval\n",
    "\n",
    "Ok. What if the x coordinates are not 0 and 1? Since, all the nice equations above hold only if we compute f'(0) and f'(1).\n",
    "I guess, there 2 cases to consider:\n",
    "    1) Your points are at 1 distance but shifted somewhere. Then the solution would be to shift the result.\n",
    "    2) The points are not equidistant or the distance is not 1. Then one would need to take distance into account for computing derivatives."
   ]
  },
  {
   "cell_type": "code",
   "execution_count": null,
   "metadata": {},
   "outputs": [],
   "source": []
  }
 ],
 "metadata": {
  "kernelspec": {
   "display_name": "Python 3",
   "language": "python",
   "name": "python3"
  },
  "language_info": {
   "codemirror_mode": {
    "name": "ipython",
    "version": 3
   },
   "file_extension": ".py",
   "mimetype": "text/x-python",
   "name": "python",
   "nbconvert_exporter": "python",
   "pygments_lexer": "ipython3",
   "version": "3.6.8"
  }
 },
 "nbformat": 4,
 "nbformat_minor": 2
}
